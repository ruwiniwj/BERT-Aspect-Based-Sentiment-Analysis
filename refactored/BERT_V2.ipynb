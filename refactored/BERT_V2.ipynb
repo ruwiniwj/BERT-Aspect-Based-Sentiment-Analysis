{
  "nbformat": 4,
  "nbformat_minor": 0,
  "metadata": {
    "colab": {
      "provenance": []
    },
    "kernelspec": {
      "name": "python3",
      "display_name": "Python 3"
    },
    "language_info": {
      "name": "python"
    }
  },
  "cells": [
    {
      "cell_type": "code",
      "execution_count": 2,
      "metadata": {
        "colab": {
          "base_uri": "https://localhost:8080/"
        },
        "id": "jFWncakIxkM8",
        "outputId": "9c227766-7c40-40eb-d1ac-2677d58a3fd4"
      },
      "outputs": [
        {
          "output_type": "stream",
          "name": "stdout",
          "text": [
            "Drive already mounted at /content/drive; to attempt to forcibly remount, call drive.mount(\"/content/drive\", force_remount=True).\n"
          ]
        }
      ],
      "source": [
        "from google.colab import drive\n",
        "drive.mount('/content/drive')"
      ]
    },
    {
      "cell_type": "code",
      "source": [
        "import pandas as pd\n",
        "import ast\n",
        "import torch\n",
        "from torch import nn\n",
        "\n",
        "from torch.utils.data import Dataset, DataLoader, Subset\n",
        "from transformers import BertTokenizer, BertModel\n",
        "import numpy as np\n",
        "import matplotlib.pyplot as plt\n",
        "from sklearn.metrics import classification_report\n",
        "from tqdm import tqdm\n",
        "from sklearn.model_selection import train_test_split\n",
        "from transformers import BertForTokenClassification\n",
        "from torch.nn.utils.rnn import pad_sequence\n",
        "from tqdm import tqdm"
      ],
      "metadata": {
        "id": "5gG4R4s_xrk9"
      },
      "execution_count": 55,
      "outputs": []
    },
    {
      "cell_type": "code",
      "source": [
        "df_all = pd.read_csv('/content/drive/MyDrive/MSC - research/20240720/df_regression_539980_20240720.csv');\n",
        "\n",
        "df = pd.DataFrame(columns=['tokens', 'aspects', 'sentiments'])\n",
        "\n",
        "df['tokens'] = df_all['tokens'].apply(ast.literal_eval)\n",
        "df['aspects'] = df_all['bio_tags'].apply(ast.literal_eval)\n",
        "df['sentiments'] = df_all['sentiment_tags'].apply(ast.literal_eval)"
      ],
      "metadata": {
        "id": "ayO5tXmjxtwB"
      },
      "execution_count": 56,
      "outputs": []
    },
    {
      "cell_type": "code",
      "source": [
        "# Define the mapping for aspects\n",
        "aspect_mapping = {\n",
        "    'O': 'O',\n",
        "    'B-overall': 'overall',\n",
        "    'B-length': 'length',\n",
        "    'B-hip': 'hip',\n",
        "    'B-buttoned': 'buttoned',\n",
        "    'B-neck': 'neck',\n",
        "    'B-sleeve': 'sleeve',\n",
        "    'B-chest': 'chest',\n",
        "    'B-waist': 'waist',\n",
        "    'B-shoulder': 'shoulder',\n",
        "    'B-length_indirect': 'length',\n",
        "    'B-buttoned_indirect': 'buttoned',\n",
        "    'B-sleeve_indirect': 'sleeve',\n",
        "    'B-overall_indirect': 'overall',\n",
        "    'I-overall': 'overall',\n",
        "    'I-length': 'length',\n",
        "    'I-hip': 'hip',\n",
        "    'I-buttoned': 'buttoned',\n",
        "    'I-neck': 'neck',\n",
        "    'I-sleeve': 'sleeve',\n",
        "    'I-chest': 'chest',\n",
        "    'I-waist': 'waist',\n",
        "    'I-shoulder': 'shoulder',\n",
        "    'I-length_indirect': 'length',\n",
        "    'I-buttoned_indirect': 'buttoned',\n",
        "    'I-sleeve_indirect': 'sleeve',\n",
        "    'I-overall_indirect': 'overall',\n",
        "}\n",
        "\n",
        "# Define the mapping for sentiments\n",
        "sentiment_mapping = {\n",
        "    'O': 'O',\n",
        "    'B-negative': 'negative',\n",
        "    'I-negative': 'negative',\n",
        "    'B-neutral': 'neutral',\n",
        "    'I-neutral': 'neutral',\n",
        "    'B-positive': 'positive',\n",
        "    'I-positive': 'positive',\n",
        "}\n",
        "\n",
        "# Function to apply mappings\n",
        "def apply_mapping(value, mapping):\n",
        "    return [mapping.get(item, 'out') for item in value]\n",
        "\n",
        "# Update the DataFrame\n",
        "df['aspects'] = df['aspects'].apply(apply_mapping, args=(aspect_mapping,))\n",
        "df['sentiments'] = df['sentiments'].apply(apply_mapping, args=(sentiment_mapping,))\n"
      ],
      "metadata": {
        "id": "SSAeXXn5xwBV"
      },
      "execution_count": 57,
      "outputs": []
    },
    {
      "cell_type": "code",
      "source": [
        "def get_labels(column):\n",
        "  # Extract distinct values from the lists\n",
        "  distinct_values = set()\n",
        "  df[column].apply(lambda x: distinct_values.update(x))\n",
        "\n",
        "  # Convert the set to a list if you need a list format\n",
        "  distinct_values_list = list(distinct_values)\n",
        "  return distinct_values_list\n",
        "\n",
        "aspect_count = len(get_labels('aspects'))\n",
        "sentiment_count = len(get_labels('sentiments'))\n",
        "max_length = df['tokens'].apply(len).max()\n",
        "out_of_aspect_id = -100"
      ],
      "metadata": {
        "id": "CErjGklmx3QS"
      },
      "execution_count": 58,
      "outputs": []
    },
    {
      "cell_type": "code",
      "source": [
        "def label_to_id(label):\n",
        "    # label_dict = {'O': -100, 'B-overall': 0, 'B-length_indirect': 1, 'B-hip': 2, 'B-buttoned_indirect': 3, 'B-neck': 4,\n",
        "    #               'B-sleeve': 5, 'B-sleeve_indirect': 6, 'B-buttoned': 7, 'B-shoulder': 8, 'B-overall_indirect': 9,\n",
        "    #               'B-length': 10, 'B-chest': 11, 'B-waist': 12}\n",
        "    label_dict = {'O': out_of_aspect_id, 'overall': 0, 'length': 1, 'hip': 2, 'buttoned': 3, 'neck': 4,\n",
        "                  'sleeve': 5, 'shoulder': 6,'chest': 6, 'waist': 8}\n",
        "    return label_dict.get(label, out_of_aspect_id)\n",
        "\n",
        "def sentiment_to_id(sentiment):\n",
        "    # sentiment_dict = {'O': -100, 'B-negative': 0, 'B-neutral': 1, 'I-negative': 2, 'B-positive': 3, 'I-positive': 4}\n",
        "    sentiment_dict = {'O': out_of_aspect_id, 'negative': 0, 'neutral': 1, 'positive': 2}\n",
        "    return sentiment_dict.get(sentiment, out_of_aspect_id)\n"
      ],
      "metadata": {
        "id": "pe_Wtcqi5UkP"
      },
      "execution_count": 59,
      "outputs": []
    },
    {
      "cell_type": "code",
      "source": [
        "class BERTDataset(Dataset):\n",
        "    def __init__(self, df, tokenizer):\n",
        "        self.df = df\n",
        "        self.tokenizer = tokenizer\n",
        "\n",
        "    def __getitem__(self, idx):\n",
        "        record = self.df.iloc[idx]\n",
        "        tokens = record['tokens']\n",
        "        aspects = record['aspects']\n",
        "        sentiments = record['sentiments']\n",
        "\n",
        "        bert_tokens = []\n",
        "        bert_aspects = []\n",
        "        bert_sentiments = []\n",
        "\n",
        "        # Tokenize each token and extend the corresponding lists\n",
        "        for token, aspect, sentiment in zip(tokens, aspects, sentiments):\n",
        "            tokenized = self.tokenizer.tokenize(token)\n",
        "            bert_tokens.extend(tokenized)\n",
        "            bert_aspects.extend([aspect] * len(tokenized))\n",
        "            bert_sentiments.extend([sentiment] * len(tokenized))\n",
        "\n",
        "        # Convert tokens to IDs and create tensors\n",
        "        bert_ids = self.tokenizer.convert_tokens_to_ids(bert_tokens)\n",
        "        ids_tensor = torch.tensor(bert_ids)\n",
        "\n",
        "        aspect_tensor = torch.tensor([label_to_id(aspect) for aspect in bert_aspects], dtype=torch.long)\n",
        "        sentiment_tensor = torch.tensor([sentiment_to_id(sentiment) for sentiment in bert_sentiments], dtype=torch.long)\n",
        "        attention_mask = [1] * len(bert_ids)\n",
        "        attention_tensor = torch.tensor(attention_mask)\n",
        "\n",
        "        return {\n",
        "          'bert_tokens': bert_tokens,\n",
        "          'ids_tensor': ids_tensor,\n",
        "          'aspect_tensor': aspect_tensor,\n",
        "          'sentiment_tensor': sentiment_tensor,\n",
        "          'attention_tensor': attention_tensor\n",
        "        }\n",
        "\n",
        "        # return bert_tokens, ids_tensor, aspect_tensor, sentiment_tensor\n",
        "\n",
        "    def __len__(self):\n",
        "        return len(self.df)\n"
      ],
      "metadata": {
        "id": "NvtG9Kf8aBYJ"
      },
      "execution_count": 60,
      "outputs": []
    },
    {
      "cell_type": "code",
      "source": [
        "class BERTModel(torch.nn.Module):\n",
        "    def __init__(self, tokenizer, model, optimizer):\n",
        "        super().__init__()\n",
        "        # super(BERTModel, self).__init__()\n",
        "        self.tokenizer = tokenizer\n",
        "        self.model = model\n",
        "        # self.optimizer = optimizer\n",
        "        # self.loss_fn = loss_fn # BERTOKENCLASSIFIER USES CROSS ENTROPY LOSS BY DEFAULT\n",
        "\n",
        "    def evaluate(self, val_loader):\n",
        "      return 1,1\n",
        "\n",
        "    # def forward(self, ids_tensor, label_tensors, masks_tensors):\n",
        "    #     outputs = self.model(input_ids=ids_tensor, labels=label_tensors, attention_mask=masks_tensors)\n",
        "    #     loss = outputs.loss\n",
        "    #     logits = outputs.logits\n",
        "    #     preds = torch.argmax(logits, dim=-1)\n",
        "    #     return loss, preds\n",
        "\n",
        "    def test(self, test_loader):\n",
        "        _, accuracy = self.evaluate(test_loader)\n",
        "        print(f\"Test Accuracy: {accuracy:.4f}\")\n",
        "\n",
        "    def compute_accuracy(self, preds, labels):\n",
        "        return (preds == labels).float().mean().item()\n",
        "        # correct = (preds == labels).sum().item()\n",
        "        # total = labels.numel()\n",
        "        # accuracy = correct / total\n",
        "        # return accuracy\n",
        "\n",
        "    def plot_training_and_validation(self, train_losses, train_accuracies, val_losses, val_accuracies):\n",
        "        plt.figure(figsize=(12, 6))\n",
        "        plt.subplot(1, 2, 1)\n",
        "        plt.plot(train_losses, label='Training Loss')\n",
        "        plt.plot(val_losses, label='Validation Loss')\n",
        "        plt.title('Training & Validation Loss')\n",
        "        plt.xlabel('Epoch')\n",
        "        plt.ylabel('Loss')\n",
        "        plt.legend()\n",
        "\n",
        "        plt.subplot(1, 2, 2)\n",
        "        plt.plot(train_accuracies, label='Training Accuracy')\n",
        "        plt.plot(val_accuracies, label='Validation Accuracy')\n",
        "        plt.title('Training & Validation Accuracy')\n",
        "        plt.xlabel('Epoch')\n",
        "        plt.ylabel('Accuracy')\n",
        "        plt.legend()\n",
        "        plt.show()"
      ],
      "metadata": {
        "id": "B0Q5UqZ3fv6Z"
      },
      "execution_count": 61,
      "outputs": []
    },
    {
      "cell_type": "code",
      "source": [
        "class AspectModel(BERTModel):\n",
        "    def __init__(self, tokenizer, model, optimizer, num_labels):\n",
        "        super().__init__(tokenizer, model, optimizer)\n",
        "        self.num_labels = num_labels\n",
        "\n",
        "    def train(self, train_loader, val_loader, epochs=3, lr=1e-5):\n",
        "        self.model.train()\n",
        "        optimizer = torch.optim.AdamW(self.model.parameters(), lr=lr)\n",
        "        # optimizer = self.optimizer(self.model.parameters(), lr=lr)\n",
        "        train_losses, train_accuracies = [], []\n",
        "        val_losses, val_accuracies = [], []\n",
        "\n",
        "        for epoch in range(epochs):\n",
        "            for data in tqdm(train_loader):\n",
        "                tokens = data['bert_tokens']\n",
        "                ids_tensor = data['ids_tensor']\n",
        "                aspect_labels = data['aspect_tensor']\n",
        "                attention_tensor = data['attention_tensor']\n",
        "\n",
        "                outputs = self.model(input_ids=ids_tensor, attention_mask=attention_tensor, labels=aspect_labels)\n",
        "                loss = outputs.loss\n",
        "                logits = outputs.logits\n",
        "                preds = torch.argmax(logits, dim=-1)\n",
        "    #     outputs = self.model(input_ids=ids_tensor, labels=label_tensors, attention_mask=masks_tensors)\n",
        "    #     loss = outputs.loss\n",
        "    #     logits = outputs.logits\n",
        "    #     preds = torch.argmax(logits, dim=-1)\n",
        "    #     return loss, preds\n",
        "                # loss, preds = self.model(ids_tensor=ids_tensor, label_tensors=aspect_labels, masks_tensors=attention_tensor)\n",
        "\n",
        "                loss.backward()\n",
        "                optimizer.step()\n",
        "                optimizer.zero_grad()\n",
        "\n",
        "                accuracy = self.compute_accuracy(preds, aspect_labels)\n",
        "                train_losses.append(loss.item())\n",
        "                train_accuracies.append(accuracy)\n",
        "\n",
        "            print(f\"Epoch {epoch+1}: Train Loss = {train_losses[-1]:.4f}, Train Accuracy = {train_accuracies[-1]:.4f}\")\n",
        "            val_loss, val_accuracy = self.test(val_loader)\n",
        "            val_losses.append(val_loss)\n",
        "            val_accuracies.append(val_accuracy)\n",
        "\n",
        "        self.plot_training_and_validation(train_losses, train_accuracies, val_losses, val_accuracies)\n",
        "\n",
        "    def test(self, test_loader):\n",
        "        self.model.eval()\n",
        "        test_loss, test_correct, test_total = 0, 0, 0\n",
        "        all_preds, all_labels = [], []\n",
        "        with torch.no_grad():\n",
        "            for data in tqdm(test_loader):\n",
        "                tokens = data['bert_tokens']\n",
        "                ids_tensor = data['ids_tensor']\n",
        "                aspect_labels = data['aspect_tensor']\n",
        "                attention_tensor = data['attention_tensor']\n",
        "\n",
        "                outputs = self.model(input_ids=ids_tensor, attention_mask=attention_tensor, labels=aspect_labels)\n",
        "                loss = outputs.loss\n",
        "                logits = outputs.logits\n",
        "                preds = torch.argmax(logits, dim=-1)\n",
        "\n",
        "                test_loss += loss.item()\n",
        "                accuracy = self.compute_accuracy(preds, aspect_labels)\n",
        "                test_total += aspect_labels.numel()\n",
        "                all_preds.extend(preds.view(-1).tolist())\n",
        "                all_labels.extend(aspect_labels.view(-1).tolist())\n",
        "\n",
        "        test_avg_loss = test_loss / len(test_loader)\n",
        "        # print(\"Test Classification Report:\")\n",
        "        # print(classification_report(all_labels, all_preds, labels=list(range(self.num_labels)), zero_division=0))\n",
        "        return test_avg_loss, accuracy\n",
        "\n",
        "    def predict(self, sentence):\n",
        "        self.model.eval()\n",
        "        with torch.no_grad():\n",
        "            # Encode the sentence using the tokenizer\n",
        "            encoding = self.tokenizer.encode_plus(\n",
        "                sentence,\n",
        "                add_special_tokens=True,\n",
        "                return_tensors='pt',\n",
        "                padding=True,\n",
        "                truncation=True\n",
        "            )\n",
        "            input_tensor = encoding['input_ids']\n",
        "            attention_tensor = encoding['attention_mask']\n",
        "\n",
        "            outputs = self.model(input_ids=input_tensor, attention_mask=attention_tensor)\n",
        "            logits = outputs.logits\n",
        "            preds = torch.argmax(logits, dim=-1)\n",
        "\n",
        "        predictions = preds.view(-1).tolist()\n",
        "        tokenized_words = self.tokenizer.convert_ids_to_tokens(input_tensor[0])\n",
        "        return tokenized_words, predictions, outputs"
      ],
      "metadata": {
        "id": "b00TH_P5n9EL"
      },
      "execution_count": 77,
      "outputs": []
    },
    {
      "cell_type": "code",
      "source": [
        "def collate_fn(batch):\n",
        "  # Extracting all elements from each data point in the batch\n",
        "  bert_tokens = [item['bert_tokens'] for item in batch]\n",
        "  ids_tensors = [item['ids_tensor'] for item in batch]\n",
        "  aspect_tensors = [item['aspect_tensor'] for item in batch]\n",
        "  sentiment_tensors = [item['sentiment_tensor'] for item in batch]\n",
        "  attention_tensors = [item['attention_tensor'] for item in batch]\n",
        "\n",
        "  # bert_tokens = pad_sequence(bert_tokens, batch_first=True)\n",
        "  ids_tensor = pad_sequence(ids_tensors, batch_first=True)\n",
        "  aspect_tensor = pad_sequence(aspect_tensors, batch_first=True, padding_value=out_of_aspect_id)\n",
        "  sentiment_tensor = pad_sequence(sentiment_tensors, batch_first=True, padding_value=out_of_aspect_id)\n",
        "  attention_tensor = pad_sequence(attention_tensors, batch_first=True, padding_value=0)\n",
        "\n",
        "  return {\n",
        "      'bert_tokens': bert_tokens,\n",
        "      'ids_tensor': ids_tensor,\n",
        "      'aspect_tensor': aspect_tensor,\n",
        "      'sentiment_tensor': sentiment_tensor,\n",
        "      'attention_tensor': attention_tensor\n",
        "}"
      ],
      "metadata": {
        "id": "DdewuZOz4u1H"
      },
      "execution_count": 78,
      "outputs": []
    },
    {
      "cell_type": "code",
      "source": [
        "def split_dataset(dataset, val_split=0.3, test_split=0.3):\n",
        "    indices = list(range(len(dataset)))\n",
        "\n",
        "    # Split into train+validation and test sets\n",
        "    train_val_indices, test_indices = train_test_split(indices, test_size=test_split, random_state=42)\n",
        "\n",
        "    # Split train+validation set into train and validation sets\n",
        "    train_indices, val_indices = train_test_split(train_val_indices, test_size=val_split, random_state=42)\n",
        "\n",
        "    train_set = Subset(dataset, train_indices)\n",
        "    val_set = Subset(dataset, val_indices)\n",
        "    test_set = Subset(dataset, test_indices)\n",
        "\n",
        "    return train_set, val_set, test_set\n"
      ],
      "metadata": {
        "id": "eSEVZ34D4AIs"
      },
      "execution_count": 79,
      "outputs": []
    },
    {
      "cell_type": "code",
      "source": [
        "dataset = BERTDataset(df, BertTokenizer.from_pretrained('bert-base-uncased'))\n",
        "train_set, val_set, test_set = split_dataset(dataset)\n"
      ],
      "metadata": {
        "id": "J8a2Gid3PGU4"
      },
      "execution_count": 80,
      "outputs": []
    },
    {
      "cell_type": "code",
      "source": [
        "train_loader = DataLoader(train_set, batch_size=16, shuffle=True, collate_fn=collate_fn)\n",
        "val_loader = DataLoader(val_set, batch_size=16, shuffle=False, collate_fn=collate_fn)\n",
        "test_loader = DataLoader(test_set, batch_size=16, shuffle=False, collate_fn=collate_fn)"
      ],
      "metadata": {
        "id": "9nrtZ8HW4nJu"
      },
      "execution_count": 81,
      "outputs": []
    },
    {
      "cell_type": "code",
      "source": [
        "aspect_model = AspectModel(\n",
        "    tokenizer = BertTokenizer.from_pretrained('bert-base-uncased'),\n",
        "    model = BertForTokenClassification.from_pretrained('bert-base-uncased', num_labels=aspect_count),\n",
        "    optimizer = torch.optim.AdamW,\n",
        "    num_labels=aspect_count\n",
        ")"
      ],
      "metadata": {
        "colab": {
          "base_uri": "https://localhost:8080/"
        },
        "id": "RHFWNMSC5H9v",
        "outputId": "bea5435e-5dbd-49ef-8a82-002a4af303f8"
      },
      "execution_count": 82,
      "outputs": [
        {
          "output_type": "stream",
          "name": "stderr",
          "text": [
            "Some weights of BertForTokenClassification were not initialized from the model checkpoint at bert-base-uncased and are newly initialized: ['classifier.bias', 'classifier.weight']\n",
            "You should probably TRAIN this model on a down-stream task to be able to use it for predictions and inference.\n"
          ]
        }
      ]
    },
    {
      "cell_type": "code",
      "source": [
        "aspect_model.train(train_loader, val_loader, epochs=10, lr=1e-5)"
      ],
      "metadata": {
        "colab": {
          "base_uri": "https://localhost:8080/",
          "height": 1000
        },
        "id": "kcDmbfUV6GPj",
        "outputId": "4772b6bb-2d14-4d29-d3f4-45916f89334a"
      },
      "execution_count": 83,
      "outputs": [
        {
          "output_type": "stream",
          "name": "stderr",
          "text": [
            "100%|██████████| 6/6 [00:54<00:00,  9.04s/it]\n"
          ]
        },
        {
          "output_type": "stream",
          "name": "stdout",
          "text": [
            "Epoch 1: Train Loss = 1.7874, Train Accuracy = 0.0156\n"
          ]
        },
        {
          "output_type": "stream",
          "name": "stderr",
          "text": [
            "100%|██████████| 3/3 [00:04<00:00,  1.64s/it]\n",
            "100%|██████████| 6/6 [00:52<00:00,  8.69s/it]\n"
          ]
        },
        {
          "output_type": "stream",
          "name": "stdout",
          "text": [
            "Epoch 2: Train Loss = 1.4816, Train Accuracy = 0.0926\n"
          ]
        },
        {
          "output_type": "stream",
          "name": "stderr",
          "text": [
            "100%|██████████| 3/3 [00:05<00:00,  1.71s/it]\n",
            "100%|██████████| 6/6 [00:49<00:00,  8.28s/it]\n"
          ]
        },
        {
          "output_type": "stream",
          "name": "stdout",
          "text": [
            "Epoch 3: Train Loss = 1.7597, Train Accuracy = 0.0476\n"
          ]
        },
        {
          "output_type": "stream",
          "name": "stderr",
          "text": [
            "100%|██████████| 3/3 [00:06<00:00,  2.27s/it]\n",
            "100%|██████████| 6/6 [00:49<00:00,  8.33s/it]\n"
          ]
        },
        {
          "output_type": "stream",
          "name": "stdout",
          "text": [
            "Epoch 4: Train Loss = 1.5416, Train Accuracy = 0.0208\n"
          ]
        },
        {
          "output_type": "stream",
          "name": "stderr",
          "text": [
            "100%|██████████| 3/3 [00:06<00:00,  2.11s/it]\n",
            "100%|██████████| 6/6 [00:50<00:00,  8.36s/it]\n"
          ]
        },
        {
          "output_type": "stream",
          "name": "stdout",
          "text": [
            "Epoch 5: Train Loss = 0.8403, Train Accuracy = 0.0556\n"
          ]
        },
        {
          "output_type": "stream",
          "name": "stderr",
          "text": [
            "100%|██████████| 3/3 [00:04<00:00,  1.64s/it]\n",
            "100%|██████████| 6/6 [00:53<00:00,  8.85s/it]\n"
          ]
        },
        {
          "output_type": "stream",
          "name": "stdout",
          "text": [
            "Epoch 6: Train Loss = 0.9306, Train Accuracy = 0.0364\n"
          ]
        },
        {
          "output_type": "stream",
          "name": "stderr",
          "text": [
            "100%|██████████| 3/3 [00:04<00:00,  1.62s/it]\n",
            "100%|██████████| 6/6 [00:45<00:00,  7.59s/it]\n"
          ]
        },
        {
          "output_type": "stream",
          "name": "stdout",
          "text": [
            "Epoch 7: Train Loss = 0.1973, Train Accuracy = 0.1364\n"
          ]
        },
        {
          "output_type": "stream",
          "name": "stderr",
          "text": [
            "100%|██████████| 3/3 [00:06<00:00,  2.26s/it]\n",
            "100%|██████████| 6/6 [00:49<00:00,  8.24s/it]\n"
          ]
        },
        {
          "output_type": "stream",
          "name": "stdout",
          "text": [
            "Epoch 8: Train Loss = 0.7864, Train Accuracy = 0.0508\n"
          ]
        },
        {
          "output_type": "stream",
          "name": "stderr",
          "text": [
            "100%|██████████| 3/3 [00:05<00:00,  1.96s/it]\n",
            "100%|██████████| 6/6 [00:50<00:00,  8.48s/it]\n"
          ]
        },
        {
          "output_type": "stream",
          "name": "stdout",
          "text": [
            "Epoch 9: Train Loss = 0.2997, Train Accuracy = 0.0638\n"
          ]
        },
        {
          "output_type": "stream",
          "name": "stderr",
          "text": [
            "100%|██████████| 3/3 [00:04<00:00,  1.62s/it]\n",
            "100%|██████████| 6/6 [00:46<00:00,  7.83s/it]\n"
          ]
        },
        {
          "output_type": "stream",
          "name": "stdout",
          "text": [
            "Epoch 10: Train Loss = 0.1206, Train Accuracy = 0.0600\n"
          ]
        },
        {
          "output_type": "stream",
          "name": "stderr",
          "text": [
            "100%|██████████| 3/3 [00:06<00:00,  2.01s/it]\n"
          ]
        },
        {
          "output_type": "display_data",
          "data": {
            "text/plain": [
              "<Figure size 1200x600 with 2 Axes>"
            ],
            "image/png": "[encoded data removed]"
          },
          "metadata": {}
        }
      ]
    }
  ]
}